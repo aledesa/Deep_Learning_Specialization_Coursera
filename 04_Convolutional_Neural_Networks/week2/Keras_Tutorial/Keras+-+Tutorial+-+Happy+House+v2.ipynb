{
 "cells": [
  {
   "cell_type": "markdown",
   "metadata": {
    "toc": true
   },
   "source": [
    "<h1>Table of Contents<span class=\"tocSkip\"></span></h1>\n",
    "<div class=\"toc\"><ul class=\"toc-item\"><li><span><a href=\"#Keras-tutorial---the-Happy-House\" data-toc-modified-id=\"Keras-tutorial---the-Happy-House-1\"><span class=\"toc-item-num\">1&nbsp;&nbsp;</span>Keras tutorial - the Happy House</a></span><ul class=\"toc-item\"><li><span><a href=\"#1---The-Happy-House\" data-toc-modified-id=\"1---The-Happy-House-1.1\"><span class=\"toc-item-num\">1.1&nbsp;&nbsp;</span>1 - The Happy House</a></span></li><li><span><a href=\"#2---Building-a-model-in-Keras\" data-toc-modified-id=\"2---Building-a-model-in-Keras-1.2\"><span class=\"toc-item-num\">1.2&nbsp;&nbsp;</span>2 - Building a model in Keras</a></span></li><li><span><a href=\"#3---Conclusion\" data-toc-modified-id=\"3---Conclusion-1.3\"><span class=\"toc-item-num\">1.3&nbsp;&nbsp;</span>3 - Conclusion</a></span></li><li><span><a href=\"#4---Test-with-your-own-image-(Optional)\" data-toc-modified-id=\"4---Test-with-your-own-image-(Optional)-1.4\"><span class=\"toc-item-num\">1.4&nbsp;&nbsp;</span>4 - Test with your own image (Optional)</a></span></li><li><span><a href=\"#5---Other-useful-functions-in-Keras-(Optional)\" data-toc-modified-id=\"5---Other-useful-functions-in-Keras-(Optional)-1.5\"><span class=\"toc-item-num\">1.5&nbsp;&nbsp;</span>5 - Other useful functions in Keras (Optional)</a></span></li></ul></li></ul></div>"
   ]
  },
  {
   "cell_type": "markdown",
   "metadata": {},
   "source": [
    "# Keras tutorial - the Happy House\n",
    "\n",
    "Welcome to the first assignment of week 2. In this assignment, you will:\n",
    "1. Learn to use Keras, a high-level neural networks API (programming framework), written in Python and capable of running on top of several lower-level frameworks including TensorFlow and CNTK. \n",
    "2. See how you can in a couple of hours build a deep learning algorithm.\n",
    "\n",
    "Why are we using Keras? Keras was developed to enable deep learning engineers to build and experiment with different models very quickly. Just as TensorFlow is a higher-level framework than Python, Keras is an even higher-level framework and provides additional abstractions. Being able to go from idea to result with the least possible delay is key to finding good models. However, Keras is more restrictive than the lower-level frameworks, so there are some very complex models that you can implement in TensorFlow but not (without more difficulty) in Keras. That being said, Keras will work fine for many common models. \n",
    "\n",
    "In this exercise, you'll work on the \"Happy House\" problem, which we'll explain below. Let's load the required packages and solve the problem of the Happy House!"
   ]
  },
  {
   "cell_type": "code",
   "execution_count": 1,
   "metadata": {
    "ExecuteTime": {
     "end_time": "2019-07-13T18:31:03.791990Z",
     "start_time": "2019-07-13T18:31:03.518141Z"
    }
   },
   "outputs": [],
   "source": [
    "import numpy as np\n",
    "\n",
    "import matplotlib.pyplot as plt\n",
    "from matplotlib.pyplot import imshow\n",
    "\n",
    "%matplotlib inline"
   ]
  },
  {
   "cell_type": "code",
   "execution_count": 2,
   "metadata": {
    "ExecuteTime": {
     "end_time": "2019-07-13T18:31:03.803048Z",
     "start_time": "2019-07-13T18:31:03.793488Z"
    }
   },
   "outputs": [],
   "source": [
    "import pydot"
   ]
  },
  {
   "cell_type": "code",
   "execution_count": 3,
   "metadata": {
    "ExecuteTime": {
     "end_time": "2019-07-13T18:31:03.807012Z",
     "start_time": "2019-07-13T18:31:03.804603Z"
    }
   },
   "outputs": [],
   "source": [
    "from IPython.display import SVG"
   ]
  },
  {
   "cell_type": "code",
   "execution_count": 4,
   "metadata": {
    "ExecuteTime": {
     "end_time": "2019-07-13T18:31:04.955128Z",
     "start_time": "2019-07-13T18:31:03.810116Z"
    }
   },
   "outputs": [
    {
     "name": "stderr",
     "output_type": "stream",
     "text": [
      "Using TensorFlow backend.\n"
     ]
    }
   ],
   "source": [
    "from keras import layers\n",
    "from keras.layers import Input, Dense, Activation, ZeroPadding2D, BatchNormalization, Flatten, Conv2D\n",
    "\n",
    "from keras.layers import AveragePooling2D, MaxPooling2D, Dropout, GlobalMaxPooling2D, GlobalAveragePooling2D"
   ]
  },
  {
   "cell_type": "code",
   "execution_count": 5,
   "metadata": {
    "ExecuteTime": {
     "end_time": "2019-07-13T18:31:04.963651Z",
     "start_time": "2019-07-13T18:31:04.957736Z"
    }
   },
   "outputs": [],
   "source": [
    "from keras.models import Model\n",
    "from keras.preprocessing import image\n",
    "from keras.applications.imagenet_utils import preprocess_input"
   ]
  },
  {
   "cell_type": "code",
   "execution_count": 6,
   "metadata": {
    "ExecuteTime": {
     "end_time": "2019-07-13T18:31:04.972788Z",
     "start_time": "2019-07-13T18:31:04.966457Z"
    }
   },
   "outputs": [],
   "source": [
    "from keras.utils import layer_utils\n",
    "from keras.utils.data_utils import get_file\n",
    "from keras.utils.vis_utils import model_to_dot\n",
    "from keras.utils import plot_model"
   ]
  },
  {
   "cell_type": "code",
   "execution_count": 7,
   "metadata": {
    "ExecuteTime": {
     "end_time": "2019-07-13T18:31:04.988686Z",
     "start_time": "2019-07-13T18:31:04.983225Z"
    }
   },
   "outputs": [],
   "source": [
    "import keras.backend as K\n",
    "K.set_image_data_format('channels_last')"
   ]
  },
  {
   "cell_type": "code",
   "execution_count": 8,
   "metadata": {
    "ExecuteTime": {
     "end_time": "2019-07-13T18:31:04.994828Z",
     "start_time": "2019-07-13T18:31:04.990806Z"
    }
   },
   "outputs": [],
   "source": [
    "from kt_utils import *"
   ]
  },
  {
   "cell_type": "code",
   "execution_count": 9,
   "metadata": {
    "ExecuteTime": {
     "end_time": "2019-07-13T18:31:04.999230Z",
     "start_time": "2019-07-13T18:31:04.996766Z"
    }
   },
   "outputs": [],
   "source": [
    "# %%writefile kt_utils.py\n",
    "# import keras.backend as K\n",
    "# import math\n",
    "# import numpy as np\n",
    "# import h5py\n",
    "# import matplotlib.pyplot as plt\n",
    "\n",
    "\n",
    "# def mean_pred(y_true, y_pred):\n",
    "#     return K.mean(y_pred)\n",
    "\n",
    "# def load_dataset():\n",
    "#     train_dataset = h5py.File('datasets/train_happy.h5', \"r\")\n",
    "#     train_set_x_orig = np.array(train_dataset[\"train_set_x\"][:]) # your train set features\n",
    "#     train_set_y_orig = np.array(train_dataset[\"train_set_y\"][:]) # your train set labels\n",
    "\n",
    "#     test_dataset = h5py.File('datasets/test_happy.h5', \"r\")\n",
    "#     test_set_x_orig = np.array(test_dataset[\"test_set_x\"][:]) # your test set features\n",
    "#     test_set_y_orig = np.array(test_dataset[\"test_set_y\"][:]) # your test set labels\n",
    "\n",
    "#     classes = np.array(test_dataset[\"list_classes\"][:]) # the list of classes\n",
    "    \n",
    "#     train_set_y_orig = train_set_y_orig.reshape((1, train_set_y_orig.shape[0]))\n",
    "#     test_set_y_orig = test_set_y_orig.reshape((1, test_set_y_orig.shape[0]))\n",
    "    \n",
    "#     return train_set_x_orig, train_set_y_orig, test_set_x_orig, test_set_y_orig, classes\n",
    "\n"
   ]
  },
  {
   "cell_type": "code",
   "execution_count": 10,
   "metadata": {
    "ExecuteTime": {
     "end_time": "2019-07-13T18:31:05.125037Z",
     "start_time": "2019-07-13T18:31:05.001043Z"
    }
   },
   "outputs": [
    {
     "name": "stdout",
     "output_type": "stream",
     "text": [
      "Keras+-+Tutorial+-+Happy+House+v2.ipynb \u001b[33mdatasets\u001b[m\u001b[m                                kt_utils.py\r\n",
      "\u001b[33m__pycache__\u001b[m\u001b[m                             \u001b[33mimages\u001b[m\u001b[m                                  \u001b[32mmodel.png\u001b[m\u001b[m\r\n"
     ]
    }
   ],
   "source": [
    "!ls"
   ]
  },
  {
   "cell_type": "markdown",
   "metadata": {},
   "source": [
    "**Note**: As you can see, we've imported a lot of functions from Keras. You can use them easily just by calling them directly in the notebook. Ex: `X = Input(...)` or `X = ZeroPadding2D(...)`."
   ]
  },
  {
   "cell_type": "markdown",
   "metadata": {},
   "source": [
    "## 1 - The Happy House \n",
    "\n",
    "For your next vacation, you decided to spend a week with five of your friends from school. It is a very convenient house with many things to do nearby. But the most important benefit is that everybody has commited to be happy when they are in the house. So anyone wanting to enter the house must prove their current state of happiness.\n",
    "\n",
    "```\n",
    "<img src=\"images/happy-house.jpg\" style=\"width:350px;height:270px;\">\n",
    "<caption><center> <u> <font color='purple'> **Figure 1** </u><font color='purple'>  : **the Happy House**</center></caption>\n",
    "```\n",
    "![](images/happy-house.jpg)\n",
    "\n",
    "\n",
    "As a deep learning expert, to make sure the \"Happy\" rule is strictly applied, you are going to build an algorithm which that uses pictures from the front door camera to check if the person is happy or not. The door should open only if the person is happy. \n",
    "\n",
    "You have gathered pictures of your friends and yourself, taken by the front-door camera. The dataset is labbeled. \n",
    "\n",
    "![](images/house-members.png)\n",
    "```\n",
    "<img src=\"images/house-members.png\" style=\"width:550px;height:250px;\">\n",
    "```\n",
    "\n",
    "Run the following code to normalize the dataset and learn about its shapes."
   ]
  },
  {
   "cell_type": "code",
   "execution_count": 11,
   "metadata": {
    "ExecuteTime": {
     "end_time": "2019-07-13T18:31:05.185025Z",
     "start_time": "2019-07-13T18:31:05.129305Z"
    }
   },
   "outputs": [
    {
     "name": "stdout",
     "output_type": "stream",
     "text": [
      "number of training examples = 600\n",
      "number of test examples = 150\n",
      "X_train shape: (600, 64, 64, 3)\n",
      "Y_train shape: (600, 1)\n",
      "X_test shape: (150, 64, 64, 3)\n",
      "Y_test shape: (150, 1)\n"
     ]
    }
   ],
   "source": [
    "X_train_orig, Y_train_orig, X_test_orig, Y_test_orig, classes = load_dataset()\n",
    "\n",
    "# Normalize image vectors\n",
    "X_train = X_train_orig/255.\n",
    "X_test = X_test_orig/255.\n",
    "\n",
    "# Reshape\n",
    "Y_train = Y_train_orig.T\n",
    "Y_test = Y_test_orig.T\n",
    "\n",
    "print (\"number of training examples = \" + str(X_train.shape[0]))\n",
    "print (\"number of test examples = \" + str(X_test.shape[0]))\n",
    "print (\"X_train shape: \" + str(X_train.shape))\n",
    "print (\"Y_train shape: \" + str(Y_train.shape))\n",
    "print (\"X_test shape: \" + str(X_test.shape))\n",
    "print (\"Y_test shape: \" + str(Y_test.shape))"
   ]
  },
  {
   "cell_type": "markdown",
   "metadata": {},
   "source": [
    "**Details of the \"Happy\" dataset**:\n",
    "- Images are of shape (64,64,3)\n",
    "- Training: 600 pictures\n",
    "- Test: 150 pictures\n",
    "\n",
    "It is now time to solve the \"Happy\" Challenge."
   ]
  },
  {
   "cell_type": "markdown",
   "metadata": {},
   "source": [
    "## 2 - Building a model in Keras\n",
    "\n",
    "Keras is very good for rapid prototyping. In just a short time you will be able to build a model that achieves outstanding results.\n",
    "\n",
    "Here is an example of a model in Keras:\n",
    "\n",
    "```python\n",
    "def model(input_shape):\n",
    "    # Define the input placeholder as a tensor with shape input_shape. Think of this as your input image!\n",
    "    X_input = Input(input_shape)\n",
    "\n",
    "    # Zero-Padding: pads the border of X_input with zeroes\n",
    "    X = ZeroPadding2D((3, 3))(X_input)\n",
    "\n",
    "    # CONV -> BN -> RELU Block applied to X\n",
    "    X = Conv2D(32, (7, 7), strides = (1, 1), name = 'conv0')(X)\n",
    "    X = BatchNormalization(axis = 3, name = 'bn0')(X)\n",
    "    X = Activation('relu')(X)\n",
    "\n",
    "    # MAXPOOL\n",
    "    X = MaxPooling2D((2, 2), name='max_pool')(X)\n",
    "\n",
    "    # FLATTEN X (means convert it to a vector) + FULLYCONNECTED\n",
    "    X = Flatten()(X)\n",
    "    X = Dense(1, activation='sigmoid', name='fc')(X)\n",
    "\n",
    "    # Create model. This creates your Keras model instance, you'll use this instance to train/test the model.\n",
    "    model = Model(inputs = X_input, outputs = X, name='HappyModel')\n",
    "    \n",
    "    return model\n",
    "```\n",
    "\n",
    "Note that Keras uses a different convention with variable names than we've previously used with numpy and TensorFlow. In particular, rather than creating and assigning a new variable on each step of forward propagation such as `X`, `Z1`, `A1`, `Z2`, `A2`, etc. for the computations for the different layers, in Keras code each line above just reassigns `X` to a new value using `X = ...`. In other words, during each step of forward propagation, we are just writing the latest value in the commputation into the same variable `X`. The only exception was `X_input`, which we kept separate and did not overwrite, since we needed it at the end to create the Keras model instance (`model = Model(inputs = X_input, ...)` above). \n",
    "\n",
    "**Exercise**: Implement a `HappyModel()`. This assignment is more open-ended than most. We suggest that you start by implementing a model using the architecture we suggest, and run through the rest of this assignment using that as your initial model. But after that, come back and take initiative to try out other model architectures. For example, you might take inspiration from the model above, but then vary the network architecture and hyperparameters however you wish. You can also use other functions such as `AveragePooling2D()`, `GlobalMaxPooling2D()`, `Dropout()`. \n",
    "\n",
    "**Note**: You have to be careful with your data's shapes. Use what you've learned in the videos to make sure your convolutional, pooling and fully-connected layers are adapted to the volumes you're applying it to."
   ]
  },
  {
   "cell_type": "code",
   "execution_count": 12,
   "metadata": {
    "ExecuteTime": {
     "end_time": "2019-07-13T18:31:05.192662Z",
     "start_time": "2019-07-13T18:31:05.186949Z"
    }
   },
   "outputs": [],
   "source": [
    "# GRADED FUNCTION: HappyModel\n",
    "\n",
    "def HappyModel(input_shape):\n",
    "    \"\"\"\n",
    "    Implementation of the HappyModel.\n",
    "    \n",
    "    Arguments:\n",
    "    input_shape -- shape of the images of the dataset\n",
    "\n",
    "    Returns:\n",
    "    model -- a Model() instance in Keras\n",
    "    \"\"\"\n",
    "    \n",
    "    ### START CODE HERE ###\n",
    "    # Feel free to use the suggested outline in the text above to get started, and run through the whole\n",
    "    # exercise (including the later portions of this notebook) once. The come back also try out other\n",
    "    # network architectures as well. \n",
    "    \n",
    "    # Just copy paste the above model.\n",
    "    \n",
    "    # Define the input placeholder as a tensor with shape input_shape. Think of this as your input image!\n",
    "    X_input = Input(input_shape)\n",
    "\n",
    "    # Zero-Padding: pads the border of X_input with zeroes\n",
    "    X = ZeroPadding2D((3, 3))(X_input)\n",
    "\n",
    "    # CONV -> BN -> RELU Block applied to X\n",
    "    X = Conv2D(32, (7, 7), strides=(1, 1), name='conv0')(X)\n",
    "    X = BatchNormalization(axis=3, name='bn0')(X)\n",
    "    X = Activation('relu')(X)\n",
    "\n",
    "    # MAXPOOL\n",
    "    X = MaxPooling2D((2, 2), name='max_pool')(X)\n",
    "\n",
    "    # FLATTEN X (means convert it to a vector) + FULLYCONNECTED\n",
    "    X = Flatten()(X)\n",
    "    X = Dense(1, activation='sigmoid', name='fc')(X)\n",
    "\n",
    "    # Create model. This creates your Keras model instance, you'll use this instance to train/test the model.\n",
    "    model = Model(inputs=X_input, outputs=X, name='HappyModel')\n",
    "\n",
    "    \n",
    "    \n",
    "    ### END CODE HERE ###\n",
    "    \n",
    "    return model"
   ]
  },
  {
   "cell_type": "markdown",
   "metadata": {},
   "source": [
    "You have now built a function to describe your model. To train and test this model, there are four steps in Keras:\n",
    "1. Create the model by calling the function above\n",
    "2. Compile the model by calling `model.compile(optimizer = \"...\", loss = \"...\", metrics = [\"accuracy\"])`\n",
    "3. Train the model on train data by calling `model.fit(x = ..., y = ..., epochs = ..., batch_size = ...)`\n",
    "4. Test the model on test data by calling `model.evaluate(x = ..., y = ...)`\n",
    "\n",
    "If you want to know more about `model.compile()`, `model.fit()`, `model.evaluate()` and their arguments, refer to the official [Keras documentation](https://keras.io/models/model/).\n",
    "\n",
    "**Exercise**: Implement step 1, i.e. create the model."
   ]
  },
  {
   "cell_type": "code",
   "execution_count": 13,
   "metadata": {
    "ExecuteTime": {
     "end_time": "2019-07-13T18:31:05.199654Z",
     "start_time": "2019-07-13T18:31:05.194479Z"
    }
   },
   "outputs": [
    {
     "data": {
      "text/plain": [
       "(600, 64, 64, 3)"
      ]
     },
     "execution_count": 13,
     "metadata": {},
     "output_type": "execute_result"
    }
   ],
   "source": [
    "X_train.shape"
   ]
  },
  {
   "cell_type": "code",
   "execution_count": 14,
   "metadata": {
    "ExecuteTime": {
     "end_time": "2019-07-13T18:31:05.212264Z",
     "start_time": "2019-07-13T18:31:05.201638Z"
    }
   },
   "outputs": [
    {
     "data": {
      "text/plain": [
       "(64, 64, 3)"
      ]
     },
     "execution_count": 14,
     "metadata": {},
     "output_type": "execute_result"
    }
   ],
   "source": [
    "X_train.shape[1:]"
   ]
  },
  {
   "cell_type": "code",
   "execution_count": 15,
   "metadata": {
    "ExecuteTime": {
     "end_time": "2019-07-13T18:31:05.356338Z",
     "start_time": "2019-07-13T18:31:05.214395Z"
    }
   },
   "outputs": [],
   "source": [
    "### START CODE HERE ### (1 line)\n",
    "happyModel = HappyModel(X_train.shape[1:])\n",
    "### END CODE HERE ###"
   ]
  },
  {
   "cell_type": "markdown",
   "metadata": {},
   "source": [
    "**Exercise**: Implement step 2, i.e. compile the model to configure the learning process. Choose the 3 arguments of `compile()` wisely. Hint: the Happy Challenge is a binary classification problem."
   ]
  },
  {
   "cell_type": "code",
   "execution_count": 16,
   "metadata": {
    "ExecuteTime": {
     "end_time": "2019-07-13T18:31:05.401186Z",
     "start_time": "2019-07-13T18:31:05.357909Z"
    }
   },
   "outputs": [],
   "source": [
    "### START CODE HERE ### (1 line)\n",
    "happyModel.compile(optimizer='adam', loss='binary_crossentropy', metrics=['accuracy'])\n",
    "### END CODE HERE ###"
   ]
  },
  {
   "cell_type": "markdown",
   "metadata": {},
   "source": [
    "**Exercise**: Implement step 3, i.e. train the model. Choose the number of epochs and the batch size."
   ]
  },
  {
   "cell_type": "code",
   "execution_count": 17,
   "metadata": {
    "ExecuteTime": {
     "end_time": "2019-07-13T18:34:43.053549Z",
     "start_time": "2019-07-13T18:31:05.403413Z"
    }
   },
   "outputs": [
    {
     "name": "stdout",
     "output_type": "stream",
     "text": [
      "Epoch 1/40\n",
      "600/600 [==============================] - 6s 9ms/step - loss: 1.4503 - acc: 0.7300\n",
      "Epoch 2/40\n",
      "600/600 [==============================] - 5s 8ms/step - loss: 0.3485 - acc: 0.8583\n",
      "Epoch 3/40\n",
      "600/600 [==============================] - 5s 9ms/step - loss: 0.1695 - acc: 0.9417\n",
      "Epoch 4/40\n",
      "600/600 [==============================] - 5s 9ms/step - loss: 0.1197 - acc: 0.9500\n",
      "Epoch 5/40\n",
      "600/600 [==============================] - 5s 8ms/step - loss: 0.0996 - acc: 0.9667\n",
      "Epoch 6/40\n",
      "600/600 [==============================] - 5s 9ms/step - loss: 0.1265 - acc: 0.9633\n",
      "Epoch 7/40\n",
      "600/600 [==============================] - 6s 9ms/step - loss: 0.0623 - acc: 0.9783\n",
      "Epoch 8/40\n",
      "600/600 [==============================] - 6s 10ms/step - loss: 0.0506 - acc: 0.9767\n",
      "Epoch 9/40\n",
      "600/600 [==============================] - 5s 9ms/step - loss: 0.0651 - acc: 0.9817\n",
      "Epoch 10/40\n",
      "600/600 [==============================] - 5s 9ms/step - loss: 0.0905 - acc: 0.9733\n",
      "Epoch 11/40\n",
      "600/600 [==============================] - 5s 9ms/step - loss: 0.0688 - acc: 0.9817\n",
      "Epoch 12/40\n",
      "600/600 [==============================] - 5s 9ms/step - loss: 0.0744 - acc: 0.9733\n",
      "Epoch 13/40\n",
      "600/600 [==============================] - 5s 9ms/step - loss: 0.0685 - acc: 0.9733\n",
      "Epoch 14/40\n",
      "600/600 [==============================] - 6s 9ms/step - loss: 0.1907 - acc: 0.9267\n",
      "Epoch 15/40\n",
      "600/600 [==============================] - 6s 10ms/step - loss: 0.2712 - acc: 0.9217\n",
      "Epoch 16/40\n",
      "600/600 [==============================] - 6s 9ms/step - loss: 0.5787 - acc: 0.8767\n",
      "Epoch 17/40\n",
      "600/600 [==============================] - 5s 9ms/step - loss: 0.1316 - acc: 0.9633\n",
      "Epoch 18/40\n",
      "600/600 [==============================] - 5s 8ms/step - loss: 0.0789 - acc: 0.9733\n",
      "Epoch 19/40\n",
      "600/600 [==============================] - 5s 8ms/step - loss: 0.0923 - acc: 0.9750\n",
      "Epoch 20/40\n",
      "600/600 [==============================] - 6s 9ms/step - loss: 0.0553 - acc: 0.9750\n",
      "Epoch 21/40\n",
      "600/600 [==============================] - 5s 9ms/step - loss: 0.1575 - acc: 0.9467\n",
      "Epoch 22/40\n",
      "600/600 [==============================] - 7s 12ms/step - loss: 0.0664 - acc: 0.9817\n",
      "Epoch 23/40\n",
      "600/600 [==============================] - 6s 10ms/step - loss: 0.0323 - acc: 0.9867\n",
      "Epoch 24/40\n",
      "600/600 [==============================] - 5s 9ms/step - loss: 0.0329 - acc: 0.9933\n",
      "Epoch 25/40\n",
      "600/600 [==============================] - 5s 9ms/step - loss: 0.0384 - acc: 0.9867\n",
      "Epoch 26/40\n",
      "600/600 [==============================] - 5s 9ms/step - loss: 0.0464 - acc: 0.9833\n",
      "Epoch 27/40\n",
      "600/600 [==============================] - 5s 9ms/step - loss: 0.0277 - acc: 0.9867\n",
      "Epoch 28/40\n",
      "600/600 [==============================] - 5s 8ms/step - loss: 0.0294 - acc: 0.9917\n",
      "Epoch 29/40\n",
      "600/600 [==============================] - 5s 8ms/step - loss: 0.0150 - acc: 0.9983\n",
      "Epoch 30/40\n",
      "600/600 [==============================] - 6s 9ms/step - loss: 0.0250 - acc: 0.9900\n",
      "Epoch 31/40\n",
      "600/600 [==============================] - 6s 10ms/step - loss: 0.0223 - acc: 0.9917\n",
      "Epoch 32/40\n",
      "600/600 [==============================] - 6s 9ms/step - loss: 0.0342 - acc: 0.9883\n",
      "Epoch 33/40\n",
      "600/600 [==============================] - 5s 8ms/step - loss: 0.0275 - acc: 0.9900\n",
      "Epoch 34/40\n",
      "600/600 [==============================] - 5s 9ms/step - loss: 0.0548 - acc: 0.9850\n",
      "Epoch 35/40\n",
      "600/600 [==============================] - 5s 9ms/step - loss: 0.0573 - acc: 0.9783\n",
      "Epoch 36/40\n",
      "600/600 [==============================] - 5s 9ms/step - loss: 0.1464 - acc: 0.9550\n",
      "Epoch 37/40\n",
      "600/600 [==============================] - 5s 9ms/step - loss: 0.2309 - acc: 0.9383\n",
      "Epoch 38/40\n",
      "600/600 [==============================] - 6s 10ms/step - loss: 0.1796 - acc: 0.9500\n",
      "Epoch 39/40\n",
      "600/600 [==============================] - 5s 9ms/step - loss: 0.0933 - acc: 0.9767\n",
      "Epoch 40/40\n",
      "600/600 [==============================] - 5s 9ms/step - loss: 0.0720 - acc: 0.9833\n"
     ]
    },
    {
     "data": {
      "text/plain": [
       "<keras.callbacks.History at 0x12f92ce10>"
      ]
     },
     "execution_count": 17,
     "metadata": {},
     "output_type": "execute_result"
    }
   ],
   "source": [
    "### START CODE HERE ### (1 line)\n",
    "happyModel.fit(X_train, Y_train, epochs=40, batch_size=16)\n",
    "### END CODE HERE ###"
   ]
  },
  {
   "cell_type": "markdown",
   "metadata": {},
   "source": [
    "Note that if you run `fit()` again, the `model` will continue to train with the parameters it has already learnt instead of reinitializing them.\n",
    "\n",
    "**Exercise**: Implement step 4, i.e. test/evaluate the model."
   ]
  },
  {
   "cell_type": "code",
   "execution_count": 18,
   "metadata": {
    "ExecuteTime": {
     "end_time": "2019-07-13T18:34:44.158551Z",
     "start_time": "2019-07-13T18:34:43.055520Z"
    },
    "scrolled": true
   },
   "outputs": [
    {
     "name": "stdout",
     "output_type": "stream",
     "text": [
      "150/150 [==============================] - 1s 7ms/step\n",
      "\n",
      "Loss = 2.242863254547119\n",
      "Test Accuracy = 0.6733333333333333\n"
     ]
    }
   ],
   "source": [
    "### START CODE HERE ### (1 line)\n",
    "preds = happyModel.evaluate(X_test, Y_test, batch_size=16, verbose=1, sample_weight=None)\n",
    "### END CODE HERE ###\n",
    "print()\n",
    "print (\"Loss = \" + str(preds[0]))\n",
    "print (\"Test Accuracy = \" + str(preds[1]))"
   ]
  },
  {
   "cell_type": "markdown",
   "metadata": {},
   "source": [
    "If your `happyModel()` function worked, you should have observed much better than random-guessing (50%) accuracy on the train and test sets.\n",
    "\n",
    "To give you a point of comparison, our model gets around **95% test accuracy in 40 epochs** (and 99% train accuracy) with a mini batch size of 16 and \"adam\" optimizer. But our model gets decent accuracy after just 2-5 epochs, so if you're comparing different models you can also train a variety of models on just a few epochs and see how they compare. \n",
    "\n",
    "If you have not yet achieved a very good accuracy (let's say more than 80%), here're some things you can play around with to try to achieve it:\n",
    "\n",
    "- Try using blocks of CONV->BATCHNORM->RELU such as:\n",
    "```python\n",
    "X = Conv2D(32, (3, 3), strides = (1, 1), name = 'conv0')(X)\n",
    "X = BatchNormalization(axis = 3, name = 'bn0')(X)\n",
    "X = Activation('relu')(X)\n",
    "```\n",
    "until your height and width dimensions are quite low and your number of channels quite large (≈32 for example). You are encoding useful information in a volume with a lot of channels. You can then flatten the volume and use a fully-connected layer.\n",
    "- You can use MAXPOOL after such blocks. It will help you lower the dimension in height and width.\n",
    "- Change your optimizer. We find Adam works well. \n",
    "- If the model is struggling to run and you get memory issues, lower your batch_size (12 is usually a good compromise)\n",
    "- Run on more epochs, until you see the train accuracy plateauing. \n",
    "\n",
    "Even if you have achieved a good accuracy, please feel free to keep playing with your model to try to get even better results. \n",
    "\n",
    "**Note**: If you perform hyperparameter tuning on your model, the test set actually becomes a dev set, and your model might end up overfitting to the test (dev) set. But just for the purpose of this assignment, we won't worry about that here.\n"
   ]
  },
  {
   "cell_type": "markdown",
   "metadata": {},
   "source": [
    "## 3 - Conclusion\n",
    "\n",
    "Congratulations, you have solved the Happy House challenge! \n",
    "\n",
    "Now, you just need to link this model to the front-door camera of your house. We unfortunately won't go into the details of how to do that here. "
   ]
  },
  {
   "cell_type": "markdown",
   "metadata": {},
   "source": [
    "<font color='blue'>\n",
    "**What we would like you to remember from this assignment:**\n",
    "- Keras is a tool we recommend for rapid prototyping. It allows you to quickly try out different model architectures. Are there any applications of deep learning to your daily life that you'd like to implement using Keras? \n",
    "- Remember how to code a model in Keras and the four steps leading to the evaluation of your model on the test set. Create->Compile->Fit/Train->Evaluate/Test."
   ]
  },
  {
   "cell_type": "markdown",
   "metadata": {},
   "source": [
    "## 4 - Test with your own image (Optional)\n",
    "\n",
    "Congratulations on finishing this assignment. You can now take a picture of your face and see if you could enter the Happy House. To do that:\n",
    "    1. Click on \"File\" in the upper bar of this notebook, then click \"Open\" to go on your Coursera Hub.\n",
    "    2. Add your image to this Jupyter Notebook's directory, in the \"images\" folder\n",
    "    3. Write your image's name in the following code\n",
    "    4. Run the code and check if the algorithm is right (0 is unhappy, 1 is happy)!\n",
    "    \n",
    "The training/test sets were quite similar; for example, all the pictures were taken against the same background (since a front door camera is always mounted in the same position). This makes the problem easier, but a model trained on this data may or may not work on your own data. But feel free to give it a try! "
   ]
  },
  {
   "cell_type": "code",
   "execution_count": 20,
   "metadata": {
    "ExecuteTime": {
     "end_time": "2019-07-13T18:38:32.775432Z",
     "start_time": "2019-07-13T18:38:32.249495Z"
    }
   },
   "outputs": [
    {
     "name": "stdout",
     "output_type": "stream",
     "text": [
      "[[1.]]\n"
     ]
    },
    {
     "data": {
      "image/png": "[encoded data removed]",
      "text/plain": [
       "<Figure size 432x288 with 1 Axes>"
      ]
     },
     "metadata": {
      "needs_background": "light"
     },
     "output_type": "display_data"
    }
   ],
   "source": [
    "### START CODE HERE ###\n",
    "img_path = 'images/my_image.jpg'\n",
    "### END CODE HERE ###\n",
    "img = image.load_img(img_path, target_size=(64, 64))\n",
    "imshow(img)\n",
    "\n",
    "x = image.img_to_array(img)\n",
    "x = np.expand_dims(x, axis=0)\n",
    "x = preprocess_input(x)\n",
    "\n",
    "print(happyModel.predict(x))"
   ]
  },
  {
   "cell_type": "markdown",
   "metadata": {},
   "source": [
    "## 5 - Other useful functions in Keras (Optional)\n",
    "\n",
    "Two other basic features of Keras that you'll find useful are:\n",
    "- `model.summary()`: prints the details of your layers in a table with the sizes of its inputs/outputs\n",
    "- `plot_model()`: plots your graph in a nice layout. You can even save it as \".png\" using SVG() if you'd like to share it on social media ;). It is saved in \"File\" then \"Open...\" in the upper bar of the notebook.\n",
    "\n",
    "Run the following code."
   ]
  },
  {
   "cell_type": "code",
   "execution_count": 21,
   "metadata": {
    "ExecuteTime": {
     "end_time": "2019-07-13T18:38:35.921248Z",
     "start_time": "2019-07-13T18:38:35.912550Z"
    },
    "scrolled": false
   },
   "outputs": [
    {
     "name": "stdout",
     "output_type": "stream",
     "text": [
      "_________________________________________________________________\n",
      "Layer (type)                 Output Shape              Param #   \n",
      "=================================================================\n",
      "input_1 (InputLayer)         (None, 64, 64, 3)         0         \n",
      "_________________________________________________________________\n",
      "zero_padding2d_1 (ZeroPaddin (None, 70, 70, 3)         0         \n",
      "_________________________________________________________________\n",
      "conv0 (Conv2D)               (None, 64, 64, 32)        4736      \n",
      "_________________________________________________________________\n",
      "bn0 (BatchNormalization)     (None, 64, 64, 32)        128       \n",
      "_________________________________________________________________\n",
      "activation_1 (Activation)    (None, 64, 64, 32)        0         \n",
      "_________________________________________________________________\n",
      "max_pool (MaxPooling2D)      (None, 32, 32, 32)        0         \n",
      "_________________________________________________________________\n",
      "flatten_1 (Flatten)          (None, 32768)             0         \n",
      "_________________________________________________________________\n",
      "fc (Dense)                   (None, 1)                 32769     \n",
      "=================================================================\n",
      "Total params: 37,633\n",
      "Trainable params: 37,569\n",
      "Non-trainable params: 64\n",
      "_________________________________________________________________\n"
     ]
    }
   ],
   "source": [
    "happyModel.summary()"
   ]
  },
  {
   "cell_type": "code",
   "execution_count": 22,
   "metadata": {
    "ExecuteTime": {
     "end_time": "2019-07-13T18:38:38.119888Z",
     "start_time": "2019-07-13T18:38:36.808736Z"
    }
   },
   "outputs": [
    {
     "data": {
      "image/svg+xml": [
       "<svg height=\"556pt\" viewBox=\"0.00 0.00 226.00 556.00\" width=\"226pt\" xmlns=\"http://www.w3.org/2000/svg\" xmlns:xlink=\"http://www.w3.org/1999/xlink\">\n",
       "<g class=\"graph\" id=\"graph0\" transform=\"scale(1 1) rotate(0) translate(4 552)\">\n",
       "<title>G</title>\n",
       "<polygon fill=\"#ffffff\" points=\"-4,4 -4,-552 222,-552 222,4 -4,4\" stroke=\"transparent\"/>\n",
       "<!-- 4999873704 -->\n",
       "<g class=\"node\" id=\"node1\">\n",
       "<title>4999873704</title>\n",
       "<polygon fill=\"none\" points=\"44.5,-511.5 44.5,-547.5 173.5,-547.5 173.5,-511.5 44.5,-511.5\" stroke=\"#000000\"/>\n",
       "<text fill=\"#000000\" font-family=\"Times,serif\" font-size=\"14.00\" text-anchor=\"middle\" x=\"109\" y=\"-525.8\">input_1: InputLayer</text>\n",
       "</g>\n",
       "<!-- 4999876448 -->\n",
       "<g class=\"node\" id=\"node2\">\n",
       "<title>4999876448</title>\n",
       "<polygon fill=\"none\" points=\"0,-438.5 0,-474.5 218,-474.5 218,-438.5 0,-438.5\" stroke=\"#000000\"/>\n",
       "<text fill=\"#000000\" font-family=\"Times,serif\" font-size=\"14.00\" text-anchor=\"middle\" x=\"109\" y=\"-452.8\">zero_padding2d_1: ZeroPadding2D</text>\n",
       "</g>\n",
       "<!-- 4999873704&#45;&gt;4999876448 -->\n",
       "<g class=\"edge\" id=\"edge1\">\n",
       "<title>4999873704-&gt;4999876448</title>\n",
       "<path d=\"M109,-511.4551C109,-503.3828 109,-493.6764 109,-484.6817\" fill=\"none\" stroke=\"#000000\"/>\n",
       "<polygon fill=\"#000000\" points=\"112.5001,-484.5903 109,-474.5904 105.5001,-484.5904 112.5001,-484.5903\" stroke=\"#000000\"/>\n",
       "</g>\n",
       "<!-- 4999875888 -->\n",
       "<g class=\"node\" id=\"node3\">\n",
       "<title>4999875888</title>\n",
       "<polygon fill=\"none\" points=\"56,-365.5 56,-401.5 162,-401.5 162,-365.5 56,-365.5\" stroke=\"#000000\"/>\n",
       "<text fill=\"#000000\" font-family=\"Times,serif\" font-size=\"14.00\" text-anchor=\"middle\" x=\"109\" y=\"-379.8\">conv0: Conv2D</text>\n",
       "</g>\n",
       "<!-- 4999876448&#45;&gt;4999875888 -->\n",
       "<g class=\"edge\" id=\"edge2\">\n",
       "<title>4999876448-&gt;4999875888</title>\n",
       "<path d=\"M109,-438.4551C109,-430.3828 109,-420.6764 109,-411.6817\" fill=\"none\" stroke=\"#000000\"/>\n",
       "<polygon fill=\"#000000\" points=\"112.5001,-411.5903 109,-401.5904 105.5001,-411.5904 112.5001,-411.5903\" stroke=\"#000000\"/>\n",
       "</g>\n",
       "<!-- 4716227552 -->\n",
       "<g class=\"node\" id=\"node4\">\n",
       "<title>4716227552</title>\n",
       "<polygon fill=\"none\" points=\"30,-292.5 30,-328.5 188,-328.5 188,-292.5 30,-292.5\" stroke=\"#000000\"/>\n",
       "<text fill=\"#000000\" font-family=\"Times,serif\" font-size=\"14.00\" text-anchor=\"middle\" x=\"109\" y=\"-306.8\">bn0: BatchNormalization</text>\n",
       "</g>\n",
       "<!-- 4999875888&#45;&gt;4716227552 -->\n",
       "<g class=\"edge\" id=\"edge3\">\n",
       "<title>4999875888-&gt;4716227552</title>\n",
       "<path d=\"M109,-365.4551C109,-357.3828 109,-347.6764 109,-338.6817\" fill=\"none\" stroke=\"#000000\"/>\n",
       "<polygon fill=\"#000000\" points=\"112.5001,-338.5903 109,-328.5904 105.5001,-338.5904 112.5001,-338.5903\" stroke=\"#000000\"/>\n",
       "</g>\n",
       "<!-- 4716227048 -->\n",
       "<g class=\"node\" id=\"node5\">\n",
       "<title>4716227048</title>\n",
       "<polygon fill=\"none\" points=\"33,-219.5 33,-255.5 185,-255.5 185,-219.5 33,-219.5\" stroke=\"#000000\"/>\n",
       "<text fill=\"#000000\" font-family=\"Times,serif\" font-size=\"14.00\" text-anchor=\"middle\" x=\"109\" y=\"-233.8\">activation_1: Activation</text>\n",
       "</g>\n",
       "<!-- 4716227552&#45;&gt;4716227048 -->\n",
       "<g class=\"edge\" id=\"edge4\">\n",
       "<title>4716227552-&gt;4716227048</title>\n",
       "<path d=\"M109,-292.4551C109,-284.3828 109,-274.6764 109,-265.6817\" fill=\"none\" stroke=\"#000000\"/>\n",
       "<polygon fill=\"#000000\" points=\"112.5001,-265.5903 109,-255.5904 105.5001,-265.5904 112.5001,-265.5903\" stroke=\"#000000\"/>\n",
       "</g>\n",
       "<!-- 5000058696 -->\n",
       "<g class=\"node\" id=\"node6\">\n",
       "<title>5000058696</title>\n",
       "<polygon fill=\"none\" points=\"26,-146.5 26,-182.5 192,-182.5 192,-146.5 26,-146.5\" stroke=\"#000000\"/>\n",
       "<text fill=\"#000000\" font-family=\"Times,serif\" font-size=\"14.00\" text-anchor=\"middle\" x=\"109\" y=\"-160.8\">max_pool: MaxPooling2D</text>\n",
       "</g>\n",
       "<!-- 4716227048&#45;&gt;5000058696 -->\n",
       "<g class=\"edge\" id=\"edge5\">\n",
       "<title>4716227048-&gt;5000058696</title>\n",
       "<path d=\"M109,-219.4551C109,-211.3828 109,-201.6764 109,-192.6817\" fill=\"none\" stroke=\"#000000\"/>\n",
       "<polygon fill=\"#000000\" points=\"112.5001,-192.5903 109,-182.5904 105.5001,-192.5904 112.5001,-192.5903\" stroke=\"#000000\"/>\n",
       "</g>\n",
       "<!-- 4446491984 -->\n",
       "<g class=\"node\" id=\"node7\">\n",
       "<title>4446491984</title>\n",
       "<polygon fill=\"none\" points=\"53,-73.5 53,-109.5 165,-109.5 165,-73.5 53,-73.5\" stroke=\"#000000\"/>\n",
       "<text fill=\"#000000\" font-family=\"Times,serif\" font-size=\"14.00\" text-anchor=\"middle\" x=\"109\" y=\"-87.8\">flatten_1: Flatten</text>\n",
       "</g>\n",
       "<!-- 5000058696&#45;&gt;4446491984 -->\n",
       "<g class=\"edge\" id=\"edge6\">\n",
       "<title>5000058696-&gt;4446491984</title>\n",
       "<path d=\"M109,-146.4551C109,-138.3828 109,-128.6764 109,-119.6817\" fill=\"none\" stroke=\"#000000\"/>\n",
       "<polygon fill=\"#000000\" points=\"112.5001,-119.5903 109,-109.5904 105.5001,-119.5904 112.5001,-119.5903\" stroke=\"#000000\"/>\n",
       "</g>\n",
       "<!-- 4447054704 -->\n",
       "<g class=\"node\" id=\"node8\">\n",
       "<title>4447054704</title>\n",
       "<polygon fill=\"none\" points=\"74,-.5 74,-36.5 144,-36.5 144,-.5 74,-.5\" stroke=\"#000000\"/>\n",
       "<text fill=\"#000000\" font-family=\"Times,serif\" font-size=\"14.00\" text-anchor=\"middle\" x=\"109\" y=\"-14.8\">fc: Dense</text>\n",
       "</g>\n",
       "<!-- 4446491984&#45;&gt;4447054704 -->\n",
       "<g class=\"edge\" id=\"edge7\">\n",
       "<title>4446491984-&gt;4447054704</title>\n",
       "<path d=\"M109,-73.4551C109,-65.3828 109,-55.6764 109,-46.6817\" fill=\"none\" stroke=\"#000000\"/>\n",
       "<polygon fill=\"#000000\" points=\"112.5001,-46.5903 109,-36.5904 105.5001,-46.5904 112.5001,-46.5903\" stroke=\"#000000\"/>\n",
       "</g>\n",
       "</g>\n",
       "</svg>"
      ],
      "text/plain": [
       "<IPython.core.display.SVG object>"
      ]
     },
     "execution_count": 22,
     "metadata": {},
     "output_type": "execute_result"
    }
   ],
   "source": [
    "plot_model(happyModel, to_file='HappyModel.png')\n",
    "SVG(model_to_dot(happyModel).create(prog='dot', format='svg'))"
   ]
  },
  {
   "cell_type": "code",
   "execution_count": null,
   "metadata": {},
   "outputs": [],
   "source": []
  }
 ],
 "metadata": {
  "kernelspec": {
   "display_name": "Python3.7 (tensorflow)",
   "language": "python",
   "name": "tf"
  },
  "language_info": {
   "codemirror_mode": {
    "name": "ipython",
    "version": 3
   },
   "file_extension": ".py",
   "mimetype": "text/x-python",
   "name": "python",
   "nbconvert_exporter": "python",
   "pygments_lexer": "ipython3",
   "version": "3.6.8"
  },
  "toc": {
   "base_numbering": 1,
   "nav_menu": {},
   "number_sections": true,
   "sideBar": true,
   "skip_h1_title": false,
   "title_cell": "Table of Contents",
   "title_sidebar": "Contents",
   "toc_cell": true,
   "toc_position": {},
   "toc_section_display": true,
   "toc_window_display": true
  }
 },
 "nbformat": 4,
 "nbformat_minor": 2
}
